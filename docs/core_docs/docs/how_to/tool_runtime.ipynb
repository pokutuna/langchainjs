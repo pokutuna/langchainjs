{
 "cells": [
  {
   "cell_type": "markdown",
   "metadata": {},
   "source": [
    "# How to pass run time values to tools\n",
    "\n",
    "```{=mdx}\n",
    ":::info Prerequisites\n",
    "\n",
    "This guide assumes familiarity with the following concepts:\n",
    "- [Chat models](/docs/concepts/#chat-models)\n",
    "- [LangChain Tools](/docs/concepts/#tools)\n",
    "- [How to create tools](/docs/how_to/custom_tools)\n",
    "- [How to use a model to call tools](/docs/how_to/tool_calling/)\n",
    ":::\n",
    "\n",
    ":::info Supported models\n",
    "\n",
    "This how-to guide uses models with native tool calling capability.\n",
    "You can find a [list of all models that support tool calling](/docs/integrations/chat/).\n",
    "\n",
    ":::\n",
    "```\n",
    "\n",
    "You may need to bind values to a tool that are only known at runtime. For example, the tool logic may require using the ID of the user who made the request.\n",
    "\n",
    "Most of the time, such values should not be controlled by the LLM. In fact, allowing the LLM to control the user ID may lead to a security risk.\n",
    "\n",
    "Instead, the LLM should only control the parameters of the tool that are meant to be controlled by the LLM, while other parameters (such as user ID) should be fixed by the application logic.\n",
    "\n",
    "This how-to guide shows a design pattern that creates the tool dynamically at run time and binds to them appropriate values."
   ]
  },
  {
   "cell_type": "markdown",
   "metadata": {},
   "source": [
    "We can bind them to chat models as follows:\n",
    "\n",
    "```{=mdx}\n",
    "import ChatModelTabs from \"@theme/ChatModelTabs\";\n",
    "\n",
    "<ChatModelTabs\n",
    "  customVarName=\"llm\"\n",
    "/>\n",
    "```"
   ]
  },
  {
   "cell_type": "markdown",
   "metadata": {},
   "source": [
    "# Passing request time information\n",
    "\n",
    "The idea is to create the tool dynamically at request time, and bind to it the appropriate information. For example,\n",
    "this information may be the user ID as resolved from the request itself."
   ]
  },
  {
   "cell_type": "code",
   "execution_count": 1,
   "metadata": {},
   "outputs": [],
   "source": [
    "import { z } from \"zod\";\n",
    "import { tool } from \"@langchain/core/tools\";\n",
    "\n",
    "const userToPets: Record<string, string[]> = {};\n",
    "\n",
    "function generateToolsForUser(userId: string) {\n",
    "  const updateFavoritePets = tool(async (input) => {\n",
    "    userToPets[userId] = input.pets;\n",
    "    return \"update_favorite_pets called.\"\n",
    "  }, {\n",
    "    name: \"update_favorite_pets\",\n",
    "    description: \"add to the list of favorite pets.\",\n",
    "    schema: z.object({\n",
    "      pets: z.array(z.string())\n",
    "    }),\n",
    "  });\n",
    "\n",
    "  const deleteFavoritePets = tool(async () => {\n",
    "    if (userId in userToPets) {\n",
    "      delete userToPets[userId];\n",
    "    }\n",
    "    return \"delete_favorite_pets called.\";\n",
    "  }, {\n",
    "    name: \"delete_favorite_pets\",\n",
    "    description: \"Delete the list of favorite pets.\",\n",
    "    schema: z.object({}),\n",
    "  });\n",
    "\n",
    "  const listFavoritePets = tool(async () => {\n",
    "    return JSON.stringify(userToPets[userId] ?? []);\n",
    "  }, {\n",
    "    name: \"list_favorite_pets\",\n",
    "    description: \"List favorite pets if any.\",\n",
    "    schema: z.object({}),\n",
    "  });\n",
    "\n",
    "  return [updateFavoritePets, deleteFavoritePets, listFavoritePets];\n",
    "}"
   ]
  },
  {
   "cell_type": "markdown",
   "metadata": {},
   "source": [
    "Verify that the tools work correctly"
   ]
  },
  {
   "cell_type": "code",
   "execution_count": 2,
   "metadata": {},
   "outputs": [
    {
     "name": "stdout",
     "output_type": "stream",
     "text": [
      "{ brace: [ 'cat', 'dog' ] }\n",
      "[\"cat\",\"dog\"]\n"
     ]
    }
   ],
   "source": [
    "const [updatePets, deletePets, listPets] = generateToolsForUser(\"brace\");\n",
    "\n",
    "await updatePets.invoke({ pets: [\"cat\", \"dog\"] });\n",
    "\n",
    "console.log(userToPets);\n",
    "console.log(await listPets.invoke({}));"
   ]
  },
  {
   "cell_type": "code",
   "execution_count": 3,
   "metadata": {},
   "outputs": [],
   "source": [
    "import { BaseChatModel } from \"@langchain/core/language_models/chat_models\";\n",
    "\n",
    "async function handleRunTimeRequest(userId: string, query: string, llm: BaseChatModel): Promise<any> {\n",
    "  if (!llm.bindTools) {\n",
    "    throw new Error(\"Language model does not support tools.\");\n",
    "  }\n",
    "  const tools = generateToolsForUser(userId);\n",
    "  const llmWithTools = llm.bindTools(tools);\n",
    "  return llmWithTools.invoke(query);\n",
    "}"
   ]
  },
  {
   "cell_type": "markdown",
   "metadata": {},
   "source": [
    "This code will allow the LLM to invoke the tools, but the LLM is **unaware** of the fact that a **user ID** even exists! You can see that `user_id` is not among the params the LLM generates:"
   ]
  },
  {
   "cell_type": "code",
   "execution_count": 4,
   "metadata": {},
   "outputs": [
    {
     "name": "stdout",
     "output_type": "stream",
     "text": [
      "{\n",
      "  name: 'update_favorite_pets',\n",
      "  args: { pets: [ 'cats', 'parrots' ] },\n",
      "  type: 'tool_call',\n",
      "  id: 'call_97h0nQ3B3cr0m58HOwq9ZyUz'\n",
      "}\n"
     ]
    }
   ],
   "source": [
    "const aiMessage = await handleRunTimeRequest(\n",
    "  \"brace\", \"my favorite animals are cats and parrots.\", llm,\n",
    ");\n",
    "console.log(aiMessage.tool_calls[0]);"
   ]
  },
  {
   "cell_type": "markdown",
   "metadata": {},
   "source": [
    "```{=mdx}\n",
    ":::tip\n",
    "Click [here](https://smith.langchain.com/public/3d766ecc-8f28-400b-8636-632e6f1598c7/r) to see the LangSmith trace for the above run.\n",
    ":::\n",
    "\n",
    ":::tip\n",
    "Chat models only output requests to invoke tools. They don't actually invoke the underlying tools.\n",
    "\n",
    "To see how to invoke the tools, please refer to [how to use a model to call tools](/docs/how_to/tool_calling/).\n",
    ":::\n",
    "```"
   ]
  }
 ],
 "metadata": {
  "kernelspec": {
   "display_name": "TypeScript",
   "language": "typescript",
   "name": "tslab"
  },
  "language_info": {
   "codemirror_mode": {
    "mode": "typescript",
    "name": "javascript",
    "typescript": true
   },
   "file_extension": ".ts",
   "mimetype": "text/typescript",
   "name": "typescript",
   "version": "3.7.2"
  }
 },
 "nbformat": 4,
 "nbformat_minor": 4
}
