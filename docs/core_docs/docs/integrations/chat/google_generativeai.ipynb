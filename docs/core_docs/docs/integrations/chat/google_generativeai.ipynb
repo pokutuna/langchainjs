{
 "cells": [
  {
   "cell_type": "raw",
   "id": "46f7ac07",
   "metadata": {},
   "source": [
    "---\n",
    "sidebar_label: Google GenAI\n",
    "keywords: [gemini, gemini-pro, ChatGoogleGenerativeAI]\n",
    "---"
   ]
  },
  {
   "cell_type": "markdown",
   "id": "e49f1e0d",
   "metadata": {},
   "source": [
    "# ChatGoogleGenerativeAI\n",
    "\n",
    "[Google AI](https://ai.google.dev/) offers a number of different chat models, including the powerful Gemini series. For information on the latest models, their features, context windows, etc. head to the [Google AI docs](https://ai.google.dev/gemini-api/docs/models/gemini).\n",
    "\n",
    "This will help you getting started with `ChatGoogleGenerativeAI` [chat models](/docs/concepts/#chat-models). For detailed documentation of all `ChatGoogleGenerativeAI` features and configurations head to the [API reference](https://api.js.langchain.com/classes/langchain_google_genai.ChatGoogleGenerativeAI.html).\n",
    "\n",
    "## Overview\n",
    "### Integration details\n",
    "\n",
    "| Class | Package | Local | Serializable | [PY support](https://python.langchain.com/docs/integrations/chat/google_generative_ai) | Package downloads | Package latest |\n",
    "| :--- | :--- | :---: | :---: |  :---: | :---: | :---: |\n",
    "| [ChatGoogleGenerativeAI](https://api.js.langchain.com/classes/langchain_google_genai.ChatGoogleGenerativeAI.html) | [@langchain/google-genai](https://api.js.langchain.com/modules/langchain_google_genai.html) | ❌ | ✅ | ✅ | ![NPM - Downloads](https://img.shields.io/npm/dm/@langchain/google-genai?style=flat-square&label=%20&) | ![NPM - Version](https://img.shields.io/npm/v/@langchain/google-genai?style=flat-square&label=%20&) |\n",
    "\n",
    "### Model features\n",
    "\n",
    "See the links in the table headers below for guides on how to use specific features.\n",
    "\n",
    "| [Tool calling](/docs/how_to/tool_calling) | [Structured output](/docs/how_to/structured_output/) | JSON mode | [Image input](/docs/how_to/multimodal_inputs/) | Audio input | Video input | [Token-level streaming](/docs/how_to/chat_streaming/) | [Token usage](/docs/how_to/chat_token_usage_tracking/) | [Logprobs](/docs/how_to/logprobs/) |\n",
    "| :---: | :---: | :---: | :---: |  :---: | :---: | :---: | :---: | :---: |\n",
    "| ✅ | ✅ | ❌ | ✅ | ✅ | ✅ | ✅ | ✅ | ❌ | \n",
    "\n",
    "## Setup\n",
    "\n",
    "You can access Google's `gemini` and `gemini-vision` models, as well as other\n",
    "generative models in LangChain through `ChatGoogleGenerativeAI` class in the\n",
    "`@langchain/google-genai` integration package.\n",
    "\n",
    "```{=mdx}\n",
    "\n",
    ":::tip\n",
    "You can also access Google's `gemini` family of models via the LangChain VertexAI and VertexAI-web integrations.\n",
    "\n",
    "Click [here](/docs/integrations/chat/google_vertex_ai) to read the docs.\n",
    ":::\n",
    "\n",
    "```\n",
    "\n",
    "### Credentials\n",
    "\n",
    "Get an API key here: [https://ai.google.dev/tutorials/setup](https://ai.google.dev/tutorials/setup)\n",
    "\n",
    "Then set the `GOOGLE_API_KEY` environment variable:\n",
    "\n",
    "```bash\n",
    "export GOOGLE_API_KEY=\"your-api-key\"\n",
    "```\n",
    "\n",
    "If you want to get automated tracing of your model calls you can also set your [LangSmith](https://docs.smith.langchain.com/) API key by uncommenting below:\n",
    "\n",
    "```bash\n",
    "# export LANGCHAIN_TRACING_V2=\"true\"\n",
    "# export LANGCHAIN_API_KEY=\"your-api-key\"\n",
    "```\n",
    "\n",
    "### Installation\n",
    "\n",
    "The LangChain `ChatGoogleGenerativeAI` integration lives in the `@langchain/google-genai` package:\n",
    "\n",
    "```{=mdx}\n",
    "import IntegrationInstallTooltip from \"@mdx_components/integration_install_tooltip.mdx\";\n",
    "import Npm2Yarn from \"@theme/Npm2Yarn\";\n",
    "\n",
    "<IntegrationInstallTooltip></IntegrationInstallTooltip>\n",
    "\n",
    "<Npm2Yarn>\n",
    "  @langchain/google-genai\n",
    "</Npm2Yarn>\n",
    "\n",
    "```"
   ]
  },
  {
   "cell_type": "markdown",
   "id": "a38cde65-254d-4219-a441-068766c0d4b5",
   "metadata": {},
   "source": [
    "## Instantiation\n",
    "\n",
    "Now we can instantiate our model object and generate chat completions:"
   ]
  },
  {
   "cell_type": "code",
   "execution_count": 1,
   "id": "cb09c344-1836-4e0c-acf8-11d13ac1dbae",
   "metadata": {},
   "outputs": [],
   "source": [
    "import { ChatGoogleGenerativeAI } from \"@langchain/google-genai\"\n",
    "\n",
    "const llm = new ChatGoogleGenerativeAI({\n",
    "    model: \"gemini-1.5-pro\",\n",
    "    temperature: 0,\n",
    "    maxRetries: 2,\n",
    "    // other params...\n",
    "})"
   ]
  },
  {
   "cell_type": "markdown",
   "id": "2b4f3e15",
   "metadata": {},
   "source": [
    "## Invocation"
   ]
  },
  {
   "cell_type": "code",
   "execution_count": 2,
   "id": "62e0dbc3",
   "metadata": {
    "tags": []
   },
   "outputs": [
    {
     "name": "stdout",
     "output_type": "stream",
     "text": [
      "AIMessage {\n",
      "  \"content\": \"J'adore programmer. \\n\",\n",
      "  \"additional_kwargs\": {\n",
      "    \"finishReason\": \"STOP\",\n",
      "    \"index\": 0,\n",
      "    \"safetyRatings\": [\n",
      "      {\n",
      "        \"category\": \"HARM_CATEGORY_SEXUALLY_EXPLICIT\",\n",
      "        \"probability\": \"NEGLIGIBLE\"\n",
      "      },\n",
      "      {\n",
      "        \"category\": \"HARM_CATEGORY_HATE_SPEECH\",\n",
      "        \"probability\": \"NEGLIGIBLE\"\n",
      "      },\n",
      "      {\n",
      "        \"category\": \"HARM_CATEGORY_HARASSMENT\",\n",
      "        \"probability\": \"NEGLIGIBLE\"\n",
      "      },\n",
      "      {\n",
      "        \"category\": \"HARM_CATEGORY_DANGEROUS_CONTENT\",\n",
      "        \"probability\": \"NEGLIGIBLE\"\n",
      "      }\n",
      "    ]\n",
      "  },\n",
      "  \"response_metadata\": {\n",
      "    \"finishReason\": \"STOP\",\n",
      "    \"index\": 0,\n",
      "    \"safetyRatings\": [\n",
      "      {\n",
      "        \"category\": \"HARM_CATEGORY_SEXUALLY_EXPLICIT\",\n",
      "        \"probability\": \"NEGLIGIBLE\"\n",
      "      },\n",
      "      {\n",
      "        \"category\": \"HARM_CATEGORY_HATE_SPEECH\",\n",
      "        \"probability\": \"NEGLIGIBLE\"\n",
      "      },\n",
      "      {\n",
      "        \"category\": \"HARM_CATEGORY_HARASSMENT\",\n",
      "        \"probability\": \"NEGLIGIBLE\"\n",
      "      },\n",
      "      {\n",
      "        \"category\": \"HARM_CATEGORY_DANGEROUS_CONTENT\",\n",
      "        \"probability\": \"NEGLIGIBLE\"\n",
      "      }\n",
      "    ]\n",
      "  },\n",
      "  \"tool_calls\": [],\n",
      "  \"invalid_tool_calls\": [],\n",
      "  \"usage_metadata\": {\n",
      "    \"input_tokens\": 21,\n",
      "    \"output_tokens\": 5,\n",
      "    \"total_tokens\": 26\n",
      "  }\n",
      "}\n"
     ]
    }
   ],
   "source": [
    "const aiMsg = await llm.invoke([\n",
    "    [\n",
    "        \"system\",\n",
    "        \"You are a helpful assistant that translates English to French. Translate the user sentence.\",\n",
    "    ],\n",
    "    [\"human\", \"I love programming.\"],\n",
    "])\n",
    "aiMsg"
   ]
  },
  {
   "cell_type": "code",
   "execution_count": 3,
   "id": "d86145b3-bfef-46e8-b227-4dda5c9c2705",
   "metadata": {},
   "outputs": [
    {
     "name": "stdout",
     "output_type": "stream",
     "text": [
      "J'adore programmer. \n",
      "\n"
     ]
    }
   ],
   "source": [
    "console.log(aiMsg.content)"
   ]
  },
  {
   "cell_type": "markdown",
   "id": "18e2bfc0-7e78-4528-a73f-499ac150dca8",
   "metadata": {},
   "source": [
    "## Chaining\n",
    "\n",
    "We can [chain](/docs/how_to/sequence/) our model with a prompt template like so:"
   ]
  },
  {
   "cell_type": "code",
   "execution_count": 4,
   "id": "e197d1d7-a070-4c96-9f8a-a0e86d046e0b",
   "metadata": {},
   "outputs": [
    {
     "name": "stdout",
     "output_type": "stream",
     "text": [
      "AIMessage {\n",
      "  \"content\": \"Ich liebe das Programmieren. \\n\",\n",
      "  \"additional_kwargs\": {\n",
      "    \"finishReason\": \"STOP\",\n",
      "    \"index\": 0,\n",
      "    \"safetyRatings\": [\n",
      "      {\n",
      "        \"category\": \"HARM_CATEGORY_SEXUALLY_EXPLICIT\",\n",
      "        \"probability\": \"NEGLIGIBLE\"\n",
      "      },\n",
      "      {\n",
      "        \"category\": \"HARM_CATEGORY_HATE_SPEECH\",\n",
      "        \"probability\": \"NEGLIGIBLE\"\n",
      "      },\n",
      "      {\n",
      "        \"category\": \"HARM_CATEGORY_HARASSMENT\",\n",
      "        \"probability\": \"NEGLIGIBLE\"\n",
      "      },\n",
      "      {\n",
      "        \"category\": \"HARM_CATEGORY_DANGEROUS_CONTENT\",\n",
      "        \"probability\": \"NEGLIGIBLE\"\n",
      "      }\n",
      "    ]\n",
      "  },\n",
      "  \"response_metadata\": {\n",
      "    \"finishReason\": \"STOP\",\n",
      "    \"index\": 0,\n",
      "    \"safetyRatings\": [\n",
      "      {\n",
      "        \"category\": \"HARM_CATEGORY_SEXUALLY_EXPLICIT\",\n",
      "        \"probability\": \"NEGLIGIBLE\"\n",
      "      },\n",
      "      {\n",
      "        \"category\": \"HARM_CATEGORY_HATE_SPEECH\",\n",
      "        \"probability\": \"NEGLIGIBLE\"\n",
      "      },\n",
      "      {\n",
      "        \"category\": \"HARM_CATEGORY_HARASSMENT\",\n",
      "        \"probability\": \"NEGLIGIBLE\"\n",
      "      },\n",
      "      {\n",
      "        \"category\": \"HARM_CATEGORY_DANGEROUS_CONTENT\",\n",
      "        \"probability\": \"NEGLIGIBLE\"\n",
      "      }\n",
      "    ]\n",
      "  },\n",
      "  \"tool_calls\": [],\n",
      "  \"invalid_tool_calls\": [],\n",
      "  \"usage_metadata\": {\n",
      "    \"input_tokens\": 16,\n",
      "    \"output_tokens\": 7,\n",
      "    \"total_tokens\": 23\n",
      "  }\n",
      "}\n"
     ]
    }
   ],
   "source": [
    "import { ChatPromptTemplate } from \"@langchain/core/prompts\"\n",
    "\n",
    "const prompt = ChatPromptTemplate.fromMessages(\n",
    "    [\n",
    "        [\n",
    "            \"system\",\n",
    "            \"You are a helpful assistant that translates {input_language} to {output_language}.\",\n",
    "        ],\n",
    "        [\"human\", \"{input}\"],\n",
    "    ]\n",
    ")\n",
    "\n",
    "const chain = prompt.pipe(llm);\n",
    "await chain.invoke(\n",
    "    {\n",
    "        input_language: \"English\",\n",
    "        output_language: \"German\",\n",
    "        input: \"I love programming.\",\n",
    "    }\n",
    ")"
   ]
  },
  {
   "cell_type": "markdown",
   "id": "6a44de56",
   "metadata": {},
   "source": [
    "## Safety Settings\n",
    "\n",
    "Gemini models have default safety settings that can be overridden. If you are receiving lots of \"Safety Warnings\" from your models, you can try tweaking the safety_settings attribute of the model. For example, to turn off safety blocking for dangerous content, you can import enums from the `@google/generative-ai` package, then construct your LLM as follows:"
   ]
  },
  {
   "cell_type": "code",
   "execution_count": 1,
   "id": "92db2f25",
   "metadata": {},
   "outputs": [],
   "source": [
    "import { ChatGoogleGenerativeAI } from \"@langchain/google-genai\";\n",
    "import { HarmBlockThreshold, HarmCategory } from \"@google/generative-ai\";\n",
    "\n",
    "const llmWithSafetySettings = new ChatGoogleGenerativeAI({\n",
    "  model: \"gemini-1.5-pro\",\n",
    "  temperature: 0,\n",
    "  safetySettings: [\n",
    "    {\n",
    "      category: HarmCategory.HARM_CATEGORY_HARASSMENT,\n",
    "      threshold: HarmBlockThreshold.BLOCK_LOW_AND_ABOVE,\n",
    "    },\n",
    "  ],\n",
    "  // other params...\n",
    "});"
   ]
  },
  {
   "cell_type": "markdown",
   "id": "d1ee55bc-ffc8-4cfa-801c-993953a08cfd",
   "metadata": {},
   "source": [
    "## Tool calling\n",
    "\n",
    "Tool calling with Google AI is mostly the same [as tool calling with other models](/docs/how_to/tool_calling), but has a few restrictions on schema.\n",
    "\n",
    "The Google AI API does not allow tool schemas to contain an object with unknown properties. For example, the following Zod schemas will throw an error:\n",
    "\n",
    "`const invalidSchema = z.object({ properties: z.record(z.unknown()) });`\n",
    "\n",
    "and\n",
    "\n",
    "`const invalidSchema2 = z.record(z.unknown());`\n",
    "\n",
    "Instead, you should explicitly define the properties of the object field. Here's an example:"
   ]
  },
  {
   "cell_type": "code",
   "execution_count": 5,
   "id": "d6805c40",
   "metadata": {},
   "outputs": [
    {
     "name": "stdout",
     "output_type": "stream",
     "text": [
      "[\n",
      "  {\n",
      "    name: 'browser_tool',\n",
      "    args: {\n",
      "      url: 'https://www.weather.com',\n",
      "      query: 'weather tonight in new york'\n",
      "    },\n",
      "    type: 'tool_call'\n",
      "  }\n",
      "]\n"
     ]
    }
   ],
   "source": [
    "import { tool } from \"@langchain/core/tools\";\n",
    "import { ChatGoogleGenerativeAI } from \"@langchain/google-genai\";\n",
    "import { z } from \"zod\";\n",
    "\n",
    "// Define your tool\n",
    "const fakeBrowserTool = tool((_) => {\n",
    "  return \"The search result is xyz...\"\n",
    "}, {\n",
    "  name: \"browser_tool\",\n",
    "  description: \"Useful for when you need to find something on the web or summarize a webpage.\",\n",
    "  schema: z.object({\n",
    "    url: z.string().describe(\"The URL of the webpage to search.\"),\n",
    "    query: z.string().optional().describe(\"An optional search query to use.\"),\n",
    "  }),\n",
    "})\n",
    "\n",
    "const llmWithTool = new ChatGoogleGenerativeAI({\n",
    "  model: \"gemini-pro\",\n",
    "}).bindTools([fakeBrowserTool]) // Bind your tools to the model\n",
    "\n",
    "const toolRes = await llmWithTool.invoke([\n",
    "  [\n",
    "    \"human\",\n",
    "    \"Search the web and tell me what the weather will be like tonight in new york. use a popular weather website\",\n",
    "  ],\n",
    "]);\n",
    "\n",
    "console.log(toolRes.tool_calls);"
   ]
  },
  {
   "cell_type": "markdown",
   "id": "0c6a950f",
   "metadata": {},
   "source": [
    "## Gemini Prompting FAQs\n",
    "\n",
    "As of the time this doc was written (2023/12/12), Gemini has some restrictions on the types and structure of prompts it accepts. Specifically:\n",
    "\n",
    "1. When providing multimodal (image) inputs, you are restricted to at most 1 message of \"human\" (user) type. You cannot pass multiple messages (though the single human message may have multiple content entries)\n",
    "2. System messages are not natively supported, and will be merged with the first human message if present.\n",
    "3. For regular chat conversations, messages must follow the human/ai/human/ai alternating pattern. You may not provide 2 AI or human messages in sequence.\n",
    "4. Message may be blocked if they violate the safety checks of the LLM. In this case, the model will return an empty response.\n"
   ]
  },
  {
   "cell_type": "markdown",
   "id": "3a5bb5ca-c3ae-4a58-be67-2cd18574b9a3",
   "metadata": {},
   "source": [
    "## API reference\n",
    "\n",
    "For detailed documentation of all ChatGoogleGenerativeAI features and configurations head to the API reference: https://api.js.langchain.com/classes/langchain_google_genai.ChatGoogleGenerativeAI.html"
   ]
  }
 ],
 "metadata": {
  "kernelspec": {
   "display_name": "TypeScript",
   "language": "typescript",
   "name": "tslab"
  },
  "language_info": {
   "codemirror_mode": {
    "mode": "typescript",
    "name": "javascript",
    "typescript": true
   },
   "file_extension": ".ts",
   "mimetype": "text/typescript",
   "name": "typescript",
   "version": "3.7.2"
  }
 },
 "nbformat": 4,
 "nbformat_minor": 5
}
