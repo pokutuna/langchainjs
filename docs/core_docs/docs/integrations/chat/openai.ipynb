{
 "cells": [
  {
   "cell_type": "raw",
   "id": "afaf8039",
   "metadata": {
    "vscode": {
     "languageId": "raw"
    }
   },
   "source": [
    "---\n",
    "sidebar_label: OpenAI\n",
    "---"
   ]
  },
  {
   "cell_type": "markdown",
   "id": "e49f1e0d",
   "metadata": {},
   "source": [
    "# ChatOpenAI\n",
    "\n",
    "[OpenAI](https://en.wikipedia.org/wiki/OpenAI) is an artificial intelligence (AI) research laboratory.\n",
    "\n",
    "This guide will help you getting started with ChatOpenAI [chat models](/docs/concepts/#chat-models). For detailed documentation of all ChatOpenAI features and configurations head to the [API reference](https://api.js.langchain.com/classes/langchain_openai.ChatOpenAI.html).\n",
    "\n",
    "## Overview\n",
    "### Integration details\n",
    "\n",
    "| Class | Package | Local | Serializable | [PY support](https://python.langchain.com/docs/integrations/chat/openai) | Package downloads | Package latest |\n",
    "| :--- | :--- | :---: | :---: |  :---: | :---: | :---: |\n",
    "| [ChatOpenAI](https://api.js.langchain.com/classes/langchain_openai.ChatOpenAI.html) | [`@langchain/openai`](https://www.npmjs.com/package/@langchain/openai) | ❌ | ✅ | ✅ | ![NPM - Downloads](https://img.shields.io/npm/dm/@langchain/openai?style=flat-square&label=%20&) | ![NPM - Version](https://img.shields.io/npm/v/@langchain/openai?style=flat-square&label=%20&) |\n",
    "\n",
    "### Model features\n",
    "\n",
    "See the links in the table headers below for guides on how to use specific features.\n",
    "\n",
    "| [Tool calling](/docs/how_to/tool_calling) | [Structured output](/docs/how_to/structured_output/) | JSON mode | [Image input](/docs/how_to/multimodal_inputs/) | Audio input | Video input | [Token-level streaming](/docs/how_to/chat_streaming/) | [Token usage](/docs/how_to/chat_token_usage_tracking/) | [Logprobs](/docs/how_to/logprobs/) |\n",
    "| :---: | :---: | :---: | :---: |  :---: | :---: | :---: | :---: | :---: |\n",
    "| ✅ | ✅ | ✅ | ✅ | ❌ | ❌ | ✅ | ✅ | ✅ | \n",
    "\n",
    "## Setup\n",
    "\n",
    "To access OpenAI chat models you'll need to create an OpenAI account, get an API key, and install the `@langchain/openai` integration package.\n",
    "\n",
    "### Credentials\n",
    "\n",
    "Head to [OpenAI's website](https://platform.openai.com/) to sign up for OpenAI and generate an API key. Once you've done this set the `OPENAI_API_KEY` environment variable:\n",
    "\n",
    "```bash\n",
    "export OPENAI_API_KEY=\"your-api-key\"\n",
    "```\n",
    "\n",
    "If you want to get automated tracing of your model calls you can also set your [LangSmith](https://docs.smith.langchain.com/) API key by uncommenting below:\n",
    "\n",
    "```bash\n",
    "# export LANGCHAIN_TRACING_V2=\"true\"\n",
    "# export LANGCHAIN_API_KEY=\"your-api-key\"\n",
    "```\n",
    "\n",
    "### Installation\n",
    "\n",
    "The LangChain `ChatOpenAI` integration lives in the `@langchain/openai` package:\n",
    "\n",
    "```{=mdx}\n",
    "\n",
    "import IntegrationInstallTooltip from \"@mdx_components/integration_install_tooltip.mdx\";\n",
    "import Npm2Yarn from \"@theme/Npm2Yarn\";\n",
    "\n",
    "<IntegrationInstallTooltip></IntegrationInstallTooltip>\n",
    "\n",
    "<Npm2Yarn>\n",
    "  @langchain/openai\n",
    "</Npm2Yarn>\n",
    "\n",
    "```"
   ]
  },
  {
   "cell_type": "markdown",
   "id": "a38cde65-254d-4219-a441-068766c0d4b5",
   "metadata": {},
   "source": [
    "## Instantiation\n",
    "\n",
    "Now we can instantiate our model object and generate chat completions:"
   ]
  },
  {
   "cell_type": "code",
   "execution_count": 1,
   "id": "cb09c344-1836-4e0c-acf8-11d13ac1dbae",
   "metadata": {},
   "outputs": [],
   "source": [
    "import { ChatOpenAI } from \"@langchain/openai\" \n",
    "\n",
    "const llm = new ChatOpenAI({\n",
    "    model: \"gpt-4o\",\n",
    "    temperature: 0,\n",
    "    // other params...\n",
    "})"
   ]
  },
  {
   "cell_type": "markdown",
   "id": "2b4f3e15",
   "metadata": {},
   "source": [
    "## Invocation"
   ]
  },
  {
   "cell_type": "code",
   "execution_count": 2,
   "id": "62e0dbc3",
   "metadata": {
    "tags": []
   },
   "outputs": [
    {
     "name": "stdout",
     "output_type": "stream",
     "text": [
      "AIMessage {\n",
      "  \"id\": \"chatcmpl-9rB4GvhlRb0x3hxupLBQYOKKmTxvV\",\n",
      "  \"content\": \"J'adore la programmation.\",\n",
      "  \"additional_kwargs\": {},\n",
      "  \"response_metadata\": {\n",
      "    \"tokenUsage\": {\n",
      "      \"completionTokens\": 8,\n",
      "      \"promptTokens\": 31,\n",
      "      \"totalTokens\": 39\n",
      "    },\n",
      "    \"finish_reason\": \"stop\"\n",
      "  },\n",
      "  \"tool_calls\": [],\n",
      "  \"invalid_tool_calls\": [],\n",
      "  \"usage_metadata\": {\n",
      "    \"input_tokens\": 31,\n",
      "    \"output_tokens\": 8,\n",
      "    \"total_tokens\": 39\n",
      "  }\n",
      "}\n"
     ]
    }
   ],
   "source": [
    "const aiMsg = await llm.invoke([\n",
    "    [\n",
    "        \"system\",\n",
    "        \"You are a helpful assistant that translates English to French. Translate the user sentence.\",\n",
    "    ],\n",
    "    [\"human\", \"I love programming.\"],\n",
    "])\n",
    "aiMsg"
   ]
  },
  {
   "cell_type": "code",
   "execution_count": 3,
   "id": "d86145b3-bfef-46e8-b227-4dda5c9c2705",
   "metadata": {},
   "outputs": [
    {
     "name": "stdout",
     "output_type": "stream",
     "text": [
      "J'adore la programmation.\n"
     ]
    }
   ],
   "source": [
    "console.log(aiMsg.content)"
   ]
  },
  {
   "cell_type": "markdown",
   "id": "18e2bfc0-7e78-4528-a73f-499ac150dca8",
   "metadata": {},
   "source": [
    "## Chaining\n",
    "\n",
    "We can [chain](/docs/how_to/sequence/) our model with a prompt template like so:"
   ]
  },
  {
   "cell_type": "code",
   "execution_count": 4,
   "id": "e197d1d7-a070-4c96-9f8a-a0e86d046e0b",
   "metadata": {},
   "outputs": [
    {
     "name": "stdout",
     "output_type": "stream",
     "text": [
      "AIMessage {\n",
      "  \"id\": \"chatcmpl-9rB4JD9rVBLzTuMee9AabulowEH0d\",\n",
      "  \"content\": \"Ich liebe das Programmieren.\",\n",
      "  \"additional_kwargs\": {},\n",
      "  \"response_metadata\": {\n",
      "    \"tokenUsage\": {\n",
      "      \"completionTokens\": 6,\n",
      "      \"promptTokens\": 26,\n",
      "      \"totalTokens\": 32\n",
      "    },\n",
      "    \"finish_reason\": \"stop\"\n",
      "  },\n",
      "  \"tool_calls\": [],\n",
      "  \"invalid_tool_calls\": [],\n",
      "  \"usage_metadata\": {\n",
      "    \"input_tokens\": 26,\n",
      "    \"output_tokens\": 6,\n",
      "    \"total_tokens\": 32\n",
      "  }\n",
      "}\n"
     ]
    }
   ],
   "source": [
    "import { ChatPromptTemplate } from \"@langchain/core/prompts\"\n",
    "\n",
    "const prompt = ChatPromptTemplate.fromMessages(\n",
    "    [\n",
    "        [\n",
    "            \"system\",\n",
    "            \"You are a helpful assistant that translates {input_language} to {output_language}.\",\n",
    "        ],\n",
    "        [\"human\", \"{input}\"],\n",
    "    ]\n",
    ")\n",
    "\n",
    "const chain = prompt.pipe(llm);\n",
    "await chain.invoke(\n",
    "    {\n",
    "        input_language: \"English\",\n",
    "        output_language: \"German\",\n",
    "        input: \"I love programming.\",\n",
    "    }\n",
    ")"
   ]
  },
  {
   "cell_type": "markdown",
   "id": "06ffc86b",
   "metadata": {},
   "source": [
    "## Custom URLs\n",
    "\n",
    "You can customize the base URL the SDK sends requests to by passing a `configuration` parameter like this:"
   ]
  },
  {
   "cell_type": "code",
   "execution_count": null,
   "id": "19a092b9",
   "metadata": {},
   "outputs": [],
   "source": [
    "import { ChatOpenAI } from \"@langchain/openai\";\n",
    "\n",
    "const llmWithCustomURL = new ChatOpenAI({\n",
    "  temperature: 0.9,\n",
    "  configuration: {\n",
    "    baseURL: \"https://your_custom_url.com\",\n",
    "  },\n",
    "});\n",
    "\n",
    "await llmWithCustomURL.invoke(\"Hi there!\");"
   ]
  },
  {
   "cell_type": "markdown",
   "id": "20b60ccb",
   "metadata": {},
   "source": [
    "The `configuration` field also accepts other `ClientOptions` parameters accepted by the official SDK.\n",
    "\n",
    "If you are hosting on Azure OpenAI, see the [dedicated page instead](/docs/integrations/chat/azure).\n",
    "\n",
    "## Custom headers\n",
    "\n",
    "You can specify custom headers in the same `configuration` field:"
   ]
  },
  {
   "cell_type": "code",
   "execution_count": null,
   "id": "cd612609",
   "metadata": {},
   "outputs": [],
   "source": [
    "import { ChatOpenAI } from \"@langchain/openai\";\n",
    "\n",
    "const llmWithCustomHeaders = new ChatOpenAI({\n",
    "  temperature: 0.9,\n",
    "  configuration: {\n",
    "    defaultHeaders: {\n",
    "      \"Authorization\": `Bearer SOME_CUSTOM_VALUE`,\n",
    "    },\n",
    "  },\n",
    "});\n",
    "\n",
    "await llmWithCustomHeaders.invoke(\"Hi there!\");"
   ]
  },
  {
   "cell_type": "markdown",
   "id": "013b6300",
   "metadata": {},
   "source": [
    "## Calling fine-tuned models\n",
    "\n",
    "You can call fine-tuned OpenAI models by passing in your corresponding `modelName` parameter.\n",
    "\n",
    "This generally takes the form of `ft:{OPENAI_MODEL_NAME}:{ORG_NAME}::{MODEL_ID}`. For example:"
   ]
  },
  {
   "cell_type": "code",
   "execution_count": null,
   "id": "7448f6a9",
   "metadata": {},
   "outputs": [],
   "source": [
    "import { ChatOpenAI } from \"@langchain/openai\";\n",
    "\n",
    "const fineTunedLlm = new ChatOpenAI({\n",
    "  temperature: 0.9,\n",
    "  model: \"ft:gpt-3.5-turbo-0613:{ORG_NAME}::{MODEL_ID}\",\n",
    "});\n",
    "\n",
    "await fineTunedLlm.invoke(\"Hi there!\");"
   ]
  },
  {
   "cell_type": "markdown",
   "id": "a2270901",
   "metadata": {},
   "source": [
    "## Generation metadata\n",
    "\n",
    "If you need additional information like logprobs or token usage, these will be returned directly in the `.invoke` response within the `response_metadata` field on the message.\n",
    "\n",
    "```{=mdx}\n",
    "\n",
    ":::tip\n",
    "Requires `@langchain/core` version >=0.1.48.\n",
    ":::\n",
    "\n",
    "```"
   ]
  },
  {
   "cell_type": "code",
   "execution_count": 2,
   "id": "2b675330",
   "metadata": {},
   "outputs": [
    {
     "name": "stdout",
     "output_type": "stream",
     "text": [
      "{\n",
      "  content: [\n",
      "    {\n",
      "      token: 'Hello',\n",
      "      logprob: -0.0005151443,\n",
      "      bytes: [ 72, 101, 108, 108, 111 ],\n",
      "      top_logprobs: []\n",
      "    },\n",
      "    {\n",
      "      token: '!',\n",
      "      logprob: -0.00004334534,\n",
      "      bytes: [ 33 ],\n",
      "      top_logprobs: []\n",
      "    },\n",
      "    {\n",
      "      token: ' How',\n",
      "      logprob: -0.000035477897,\n",
      "      bytes: [ 32, 72, 111, 119 ],\n",
      "      top_logprobs: []\n",
      "    },\n",
      "    {\n",
      "      token: ' can',\n",
      "      logprob: -0.0006658526,\n",
      "      bytes: [ 32, 99, 97, 110 ],\n",
      "      top_logprobs: []\n",
      "    },\n",
      "    {\n",
      "      token: ' I',\n",
      "      logprob: -0.0000010280384,\n",
      "      bytes: [ 32, 73 ],\n",
      "      top_logprobs: []\n",
      "    },\n",
      "    {\n",
      "      token: ' assist',\n",
      "      logprob: -0.10124119,\n",
      "      bytes: [\n",
      "         32,  97, 115,\n",
      "        115, 105, 115,\n",
      "        116\n",
      "      ],\n",
      "      top_logprobs: []\n",
      "    },\n",
      "    {\n",
      "      token: ' you',\n",
      "      logprob: -5.5122365e-7,\n",
      "      bytes: [ 32, 121, 111, 117 ],\n",
      "      top_logprobs: []\n",
      "    },\n",
      "    {\n",
      "      token: ' today',\n",
      "      logprob: -0.000052643223,\n",
      "      bytes: [ 32, 116, 111, 100, 97, 121 ],\n",
      "      top_logprobs: []\n",
      "    },\n",
      "    {\n",
      "      token: '?',\n",
      "      logprob: -0.000012352386,\n",
      "      bytes: [ 63 ],\n",
      "      top_logprobs: []\n",
      "    }\n",
      "  ]\n",
      "}\n"
     ]
    }
   ],
   "source": [
    "import { ChatOpenAI } from \"@langchain/openai\";\n",
    "\n",
    "// See https://cookbook.openai.com/examples/using_logprobs for details\n",
    "const llmWithLogprobs = new ChatOpenAI({\n",
    "  logprobs: true,\n",
    "  // topLogprobs: 5,\n",
    "});\n",
    "\n",
    "const responseMessageWithLogprobs = await llmWithLogprobs.invoke(\"Hi there!\");\n",
    "console.dir(responseMessageWithLogprobs.response_metadata.logprobs, { depth: null });"
   ]
  },
  {
   "cell_type": "markdown",
   "id": "3a5bb5ca-c3ae-4a58-be67-2cd18574b9a3",
   "metadata": {},
   "source": [
    "## Tool calling\n",
    "\n",
    "Tool calling with OpenAI models works in a similar to [other models](/docs/how_to/tool_calling). Additionally, the following guides have some information especially relevant to OpenAI:\n",
    "\n",
    "- [How to: disable parallel tool calling](/docs/how_to/tool_calling_parallel/)\n",
    "- [How to: force a tool call](/docs/how_to/tool_choice/)\n",
    "- [How to: bind model-specific tool formats to a model](/docs/how_to/tool_calling#binding-model-specific-formats-advanced)."
   ]
  },
  {
   "cell_type": "markdown",
   "id": "3392390e",
   "metadata": {},
   "source": [
    "### ``strict: true``\n",
    "\n",
    "```{=mdx}\n",
    "\n",
    ":::info Requires ``@langchain/openai >= 0.2.6``\n",
    "\n",
    "As of Aug 6, 2024, OpenAI supports a `strict` argument when calling tools that will enforce that the tool argument schema is respected by the model. See more here: https://platform.openai.com/docs/guides/function-calling\n",
    "\n",
    "**Note**: If ``strict: true`` the tool definition will also be validated, and a subset of JSON schema are accepted. Crucially, schema cannot have optional args (those with default values). Read the full docs on what types of schema are supported here: https://platform.openai.com/docs/guides/structured-outputs/supported-schemas. \n",
    ":::\n",
    "\n",
    "\n",
    "```"
   ]
  },
  {
   "cell_type": "code",
   "execution_count": 1,
   "id": "90f0d465",
   "metadata": {},
   "outputs": [
    {
     "name": "stdout",
     "output_type": "stream",
     "text": [
      "[\n",
      "  {\n",
      "    name: 'get_current_weather',\n",
      "    args: { location: 'Hanoi' },\n",
      "    type: 'tool_call',\n",
      "    id: 'call_aB85ybkLCoccpzqHquuJGH3d'\n",
      "  }\n",
      "]\n"
     ]
    }
   ],
   "source": [
    "import { ChatOpenAI } from \"@langchain/openai\";\n",
    "import { tool } from \"@langchain/core/tools\";\n",
    "import { z } from \"zod\";\n",
    "\n",
    "const weatherTool = tool((_) => \"no-op\", {\n",
    "  name: \"get_current_weather\",\n",
    "  description: \"Get the current weather\",\n",
    "  schema: z.object({\n",
    "    location: z.string(),\n",
    "  }),\n",
    "})\n",
    "\n",
    "const llmWithStrictTrue = new ChatOpenAI({\n",
    "  model: \"gpt-4o\",\n",
    "}).bindTools([weatherTool], {\n",
    "  strict: true,\n",
    "  tool_choice: weatherTool.name,\n",
    "});\n",
    "\n",
    "// Although the question is not about the weather, it will call the tool with the correct arguments\n",
    "// because we passed `tool_choice` and `strict: true`.\n",
    "const strictTrueResult = await llmWithStrictTrue.invoke(\"What is 127862 times 12898 divided by 2?\");\n",
    "\n",
    "console.dir(strictTrueResult.tool_calls, { depth: null });"
   ]
  },
  {
   "cell_type": "markdown",
   "id": "3a5bb5ca-c3ae-4a58-be67-2cd18574b9a3",
   "metadata": {},
   "source": [
    "## API reference\n",
    "\n",
    "For detailed documentation of all ChatOpenAI features and configurations head to the API reference: https://api.js.langchain.com/classes/langchain_openai.ChatOpenAI.html"
   ]
  }
 ],
 "metadata": {
  "kernelspec": {
   "display_name": "TypeScript",
   "language": "typescript",
   "name": "tslab"
  },
  "language_info": {
   "codemirror_mode": {
    "mode": "typescript",
    "name": "javascript",
    "typescript": true
   },
   "file_extension": ".ts",
   "mimetype": "text/typescript",
   "name": "typescript",
   "version": "3.7.2"
  }
 },
 "nbformat": 4,
 "nbformat_minor": 5
}
